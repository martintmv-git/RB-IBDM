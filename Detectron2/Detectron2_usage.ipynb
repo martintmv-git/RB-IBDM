{
  "cells": [
    {
      "cell_type": "markdown",
      "metadata": {
        "id": "view-in-github",
        "colab_type": "text"
      },
      "source": [
        "<a href=\"https://colab.research.google.com/github/martintmv-git/RB-IBDM/blob/main/Detectron2/Detectron2_usage.ipynb\" target=\"_parent\"><img src=\"https://colab.research.google.com/assets/colab-badge.svg\" alt=\"Open In Colab\"/></a>"
      ]
    },
    {
      "cell_type": "markdown",
      "source": [
        "<div class=\"align-center\">\n",
        "  <a href=\"https://www.fontys.nl/\"><img src=\"https://www.fontys.nl/static/design/FA845701-BD71-466E-9B3D-38580DFAD5B4-fsm/images/logo-inverted@2x.png\" height=\"75\"></a>\n",
        "  <img src=\"https://i.imgur.com/zyfbV3r.png\" width=\"20\">\n",
        "  <a href=\"https://www.has.nl/\"><img src=\"https://i.imgur.com/ZxkugVW.png\" height=\"75\"></a>\n",
        "  <img src=\"https://i.imgur.com/zyfbV3r.png\" width=\"20\">\n",
        "  <a href=\"https://www.has.nl/onderzoek/lectoraten/lectoraat-innovatieve-biomonitoring/\"><img src=\"https://i.imgur.com/oH3VJpE.png\" height=\"75\"></a>\n",
        "  <img src=\"https://i.imgur.com/zyfbV3r.png\" width=\"20\">\n",
        "  <a href=\"https://www.naturalis.nl/\"><img src=\"https://i.imgur.com/mAHW7XQ.png\" height=\"75\"></a>\n",
        "  <img src=\"https://i.imgur.com/zyfbV3r.png\" width=\"20\">\n",
        "  <a href=\"https://www.arise-biodiversity.nl/\"><img src=\"https://i.imgur.com/j6gBpqT.png\" height=\"75\"></a>\n",
        "  <img src=\"https://i.imgur.com/zyfbV3r.png\" width=\"20\">\n",
        "  <a href=\"https://faunabit.eu/\"><img src=\"https://i.imgur.com/HxqzRYg.png\" height=\"70\"></a>\n",
        "  <img src=\"https://i.imgur.com/zyfbV3r.png\" width=\"20\">\n",
        "  <a href=\"https://diopsis.eu/\"><img src=\"https://i.imgur.com/NHZ8e1b.png\" height=\"75\"></a>\n",
        "</div>\n",
        "\n",
        "# **How to Use the Detectron2 Object Detection on New Images**\n",
        "\n",
        "---\n",
        "\n",
        "[![GitHub](https://badges.aleen42.com/src/github.svg)](https://github.com/martintmv-git/RB-IBDM) <a href=\"https://github.com/facebookresearch/detectron2\"><img src=\"https://dl.fbaipublicfiles.com/detectron2/Detectron2-Logo-Horz.png\" width=\"120\"></a>\n",
        "\n",
        "<b>This notebook contains two main parts:\n",
        "1. Environment setup\n",
        "2. Inference\n",
        "\n",
        "You need to run the cells in the forst part in order to get everything set up and ready to use and then pass either the path to the image to analyze or the path to the folder containing multiple images to the `detect` function for inference.</b>"
      ],
      "metadata": {
        "id": "XnPXFYWBHfKA"
      }
    },
    {
      "cell_type": "markdown",
      "source": [
        "# Environment setup"
      ],
      "metadata": {
        "id": "MbkEGE0-QAOp"
      }
    },
    {
      "cell_type": "code",
      "execution_count": null,
      "metadata": {
        "id": "88lxLSMEA24P"
      },
      "outputs": [],
      "source": [
        "from google.colab import drive\n",
        "drive.mount('/content/drive')"
      ]
    },
    {
      "cell_type": "code",
      "execution_count": null,
      "metadata": {
        "id": "PwML0si3CPoM"
      },
      "outputs": [],
      "source": [
        "!python -m pip install pyyaml==5.1\n",
        "import sys, os, distutils.core\n",
        "# Note: This is a faster way to install detectron2 in Colab, but it does not include all functionalities (e.g. compiled operators).\n",
        "# See https://detectron2.readthedocs.io/tutorials/install.html for full installation instructions\n",
        "!git clone 'https://github.com/facebookresearch/detectron2'\n",
        "dist = distutils.core.run_setup(\"./detectron2/setup.py\")\n",
        "!python -m pip install --quiet {' '.join([f\"'{x}'\" for x in dist.install_requires])}\n",
        "sys.path.insert(0, os.path.abspath('./detectron2'))"
      ]
    },
    {
      "cell_type": "code",
      "execution_count": null,
      "metadata": {
        "id": "1_NpiwBcCsHM"
      },
      "outputs": [],
      "source": [
        "import torch, detectron2\n",
        "!nvcc --version\n",
        "TORCH_VERSION = \".\".join(torch.__version__.split(\".\")[:2])\n",
        "CUDA_VERSION = torch.__version__.split(\"+\")[-1]\n",
        "print(\"torch: \", TORCH_VERSION, \"; cuda: \", CUDA_VERSION)\n",
        "print(\"detectron2:\", detectron2.__version__)"
      ]
    },
    {
      "cell_type": "code",
      "execution_count": null,
      "metadata": {
        "id": "XJnzLJmGCuiY"
      },
      "outputs": [],
      "source": [
        "# Setup detectron2 logger\n",
        "from detectron2.utils.logger import setup_logger\n",
        "setup_logger()\n",
        "\n",
        "# import some common libraries\n",
        "import numpy as np\n",
        "import pandas as pd\n",
        "import os, json, cv2, random\n",
        "from datetime import datetime\n",
        "from google.colab.patches import cv2_imshow\n",
        "import matplotlib.pyplot as plt\n",
        "\n",
        "# import some common detectron2 utilities\n",
        "from detectron2.config import get_cfg\n",
        "from detectron2.engine import DefaultPredictor\n",
        "from detectron2.data import MetadataCatalog\n",
        "from detectron2.utils.visualizer import Visualizer, ColorMode"
      ]
    },
    {
      "cell_type": "code",
      "execution_count": null,
      "metadata": {
        "id": "slqu41haC2Eh"
      },
      "outputs": [],
      "source": [
        "cfg = get_cfg()\n",
        "cfg.merge_from_file('/content/drive/MyDrive/Fontys/Fontys_Sem7/insect_detection/Detectron2 - Faster-RCNN/results5/config.yaml')\n",
        "cfg.MODEL.WEIGHTS = '/content/drive/MyDrive/Fontys/Fontys_Sem7/insect_detection/Detectron2 - Faster-RCNN/results5/model_final.pth'\n",
        "cfg.MODEL.ROI_HEADS.SCORE_THRESH_TEST = 0.2\n",
        "predictor = DefaultPredictor(cfg)"
      ]
    },
    {
      "cell_type": "code",
      "execution_count": null,
      "metadata": {
        "id": "ecKgJcg6FHEQ"
      },
      "outputs": [],
      "source": [
        "thing_classes = {'thing_classes':['Acrididae',\n",
        "                         'Agapeta',\n",
        "                         'Agapeta hamana',\n",
        "                         'Animalia',\n",
        "                         'Anisopodidae',\n",
        "                         'Aphididae',\n",
        "                         'Apidae',\n",
        "                         'Arachnida',\n",
        "                         'Araneae',\n",
        "                         'Arctiidae',\n",
        "                         'Auchenorrhyncha indet.',\n",
        "                         'Baetidae',\n",
        "                         'Cabera',\n",
        "                         'Caenidae',\n",
        "                         'Carabidae',\n",
        "                         'Cecidomyiidae',\n",
        "                         'Ceratopogonidae',\n",
        "                         'Cercopidae',\n",
        "                         'Chironomidae',\n",
        "                         'Chrysomelidae',\n",
        "                         'Chrysopidae',\n",
        "                         'Chrysoteuchia culmella',\n",
        "                         'Cicadellidae',\n",
        "                         'Coccinellidae',\n",
        "                         'Coleophoridae',\n",
        "                         'Coleoptera',\n",
        "                         'Collembola',\n",
        "                         'Corixidae',\n",
        "                         'Crambidae',\n",
        "                         'Culicidae',\n",
        "                         'Curculionidae',\n",
        "                         'Dermaptera',\n",
        "                         'Diptera',\n",
        "                         'Eilema',\n",
        "                         'Empididae',\n",
        "                         'Ephemeroptera',\n",
        "                         'Erebidae',\n",
        "                         'Fanniidae',\n",
        "                         'Formicidae',\n",
        "                         'Gastropoda',\n",
        "                         'Gelechiidae',\n",
        "                         'Geometridae',\n",
        "                         'Hemiptera',\n",
        "                         'Hydroptilidae',\n",
        "                         'Hymenoptera',\n",
        "                         'Ichneumonidae',\n",
        "                         'Idaea',\n",
        "                         'Insecta',\n",
        "                         'Lepidoptera',\n",
        "                         'Leptoceridae',\n",
        "                         'Limoniidae',\n",
        "                         'Lomaspilis marginata',\n",
        "                         'Miridae',\n",
        "                         'Mycetophilidae',\n",
        "                         'Nepticulidae',\n",
        "                         'Neuroptera',\n",
        "                         'Noctuidae',\n",
        "                         'Notodontidae',\n",
        "                         'Object',\n",
        "                         'Opiliones',\n",
        "                         'Orthoptera',\n",
        "                         'Panorpa germanica',\n",
        "                         'Panorpa vulgaris',\n",
        "                         'Parasitica indet.',\n",
        "                         'Plutellidae',\n",
        "                         'Psocodea',\n",
        "                         'Psychodidae',\n",
        "                         'Pterophoridae',\n",
        "                         'Pyralidae',\n",
        "                         'Pyrausta',\n",
        "                         'Sepsidae',\n",
        "                         'Spilosoma',\n",
        "                         'Staphylinidae',\n",
        "                         'Stratiomyidae',\n",
        "                         'Syrphidae',\n",
        "                         'Tettigoniidae',\n",
        "                         'Tipulidae',\n",
        "                         'Tomoceridae',\n",
        "                         'Tortricidae',\n",
        "                         'Trichoptera',\n",
        "                         'Triodia sylvina',\n",
        "                         'Yponomeuta',\n",
        "                         'Yponomeutidae']}"
      ]
    },
    {
      "cell_type": "code",
      "execution_count": null,
      "metadata": {
        "id": "CzO9Fo3BFIc8"
      },
      "outputs": [],
      "source": [
        "def single_detect(image_path, save_csv = True, save_image = True):\n",
        "  path, file_name = os.path.split(image_path)\n",
        "  save_path = os.path.join(path, file_name.replace('.jpg', '_detections.jpg'))\n",
        "\n",
        "  year = file_name[:4]\n",
        "  month = file_name[4:6]\n",
        "  day = file_name[6:8]\n",
        "  hour = file_name[8:10]\n",
        "  minute = file_name[10:12]\n",
        "  second = file_name[12:14]\n",
        "\n",
        "  # Read image\n",
        "  im = cv2.imread(image_path)\n",
        "  H, W, _ = im.shape\n",
        "\n",
        "  # Predict using model\n",
        "  outputs = predictor(im)\n",
        "\n",
        "  if save_csv:\n",
        "    # Save detections to CSV file\n",
        "    tracking_results = []\n",
        "    out_dict = {}\n",
        "    instances = outputs[\"instances\"].to(\"cpu\")\n",
        "    num_instance = len(instances)\n",
        "    if num_instance == 0:\n",
        "        out_dict['filename'] = file_name\n",
        "        out_dict['date'] = f'{year}-{month}-{day}'\n",
        "        out_dict['time'] = f'{hour}:{minute}:{second}'\n",
        "        out_dict['date_time'] = f'{day}/{month}/{year} {hour}:{minute}'\n",
        "        out_dict['name_predicted'] = None\n",
        "        out_dict['probability'] = None\n",
        "        out_dict['body_length_mm'] = None\n",
        "        out_dict['biomass_mg'] = None\n",
        "        out_dict['region'] = None\n",
        "        tracking_results.append(out_dict)\n",
        "        out_dict = {}\n",
        "    else:\n",
        "        boxes = instances.pred_boxes.tensor.numpy()\n",
        "        boxes = boxes.tolist()\n",
        "        scores = instances.scores.tolist()\n",
        "        classes = instances.pred_classes.tolist()\n",
        "\n",
        "        for k in range(num_instance):\n",
        "            box = boxes[k]\n",
        "            out_dict['filename'] = file_name\n",
        "            out_dict['date'] = f'{year}-{month}-{day}'\n",
        "            out_dict['time'] = f'{hour}:{minute}:{second}'\n",
        "            out_dict['date_time'] = f'{day}/{month}/{year} {hour}:{minute}'\n",
        "            out_dict['name_predicted'] = thing_classes['thing_classes'][classes[k]]\n",
        "            out_dict['probability'] = scores[k]\n",
        "            out_dict['body_length_mm'] = None\n",
        "            out_dict['biomass_mg'] = None\n",
        "            out_dict['region'] = f'x1={box[0]/W};x2={box[2]/W};y1={box[1]/H};y2={box[3]/H}'\n",
        "\n",
        "            # out_dict['x1'] = box[0]\n",
        "            # out_dict['y1'] = box[1]\n",
        "            # out_dict['x2'] = box[2]\n",
        "            # out_dict['y2'] = box[3]\n",
        "            tracking_results.append(out_dict)\n",
        "            out_dict = {}\n",
        "\n",
        "    df = pd.DataFrame(tracking_results)\n",
        "    df.to_csv(os.path.join(path, file_name.replace('.jpg', '.csv')), index=False)\n",
        "\n",
        "  # Visualize detections\n",
        "  v = Visualizer(im[:, :, ::-1], thing_classes)\n",
        "  out = v.draw_instance_predictions(outputs[\"instances\"].to(\"cpu\"))\n",
        "\n",
        "  if save_image:\n",
        "    # Save annotated image\n",
        "    cv2.imwrite(save_path, out.get_image()[:, :, ::-1])\n",
        "\n",
        "  # Display image\n",
        "  cv2_imshow(out.get_image()[:, :, ::-1])\n",
        "\n",
        "  return df\n",
        "\n",
        "def batch_detect(path, save_csv = True, save_image = True):\n",
        "  save_path = os.path.join(path, 'detectron_output')\n",
        "  # save_path = path\n",
        "  if os.path.exists(save_path) == False:\n",
        "    os.mkdir(save_path)\n",
        "\n",
        "  tracking_results = []\n",
        "\n",
        "  for file in os.listdir(path):\n",
        "    if file.endswith('.jpg'):\n",
        "      year = file[:4]\n",
        "      month = file[4:6]\n",
        "      day = file[6:8]\n",
        "      hour = file[8:10]\n",
        "      minute = file[10:12]\n",
        "      second = file[12:14]\n",
        "\n",
        "      # Read image\n",
        "      im = cv2.imread(os.path.join(path, file))\n",
        "      H, W, _ = im.shape\n",
        "\n",
        "      # Predict using model\n",
        "      outputs = predictor(im)\n",
        "\n",
        "      if save_csv:\n",
        "        # Save detections to CSV file\n",
        "        out_dict = {}\n",
        "        instances = outputs[\"instances\"].to(\"cpu\")\n",
        "        num_instance = len(instances)\n",
        "        if num_instance == 0:\n",
        "            out_dict['filename'] = file\n",
        "            out_dict['date'] = f'{year}-{month}-{day}'\n",
        "            out_dict['time'] = f'{hour}:{minute}:{second}'\n",
        "            out_dict['date_time'] = f'{day}/{month}/{year} {hour}:{minute}'\n",
        "            out_dict['name_predicted'] = None\n",
        "            out_dict['probability'] = None\n",
        "            out_dict['body_length_mm'] = None\n",
        "            out_dict['biomass_mg'] = None\n",
        "            out_dict['region'] = None\n",
        "            tracking_results.append(out_dict)\n",
        "            out_dict = {}\n",
        "        else:\n",
        "            boxes = instances.pred_boxes.tensor.numpy()\n",
        "            boxes = boxes.tolist()\n",
        "            scores = instances.scores.tolist()\n",
        "            classes = instances.pred_classes.tolist()\n",
        "\n",
        "            for k in range(num_instance):\n",
        "                box = boxes[k]\n",
        "                out_dict['filename'] = file\n",
        "                out_dict['date'] = f'{year}-{month}-{day}'\n",
        "                out_dict['time'] = f'{hour}:{minute}:{second}'\n",
        "                out_dict['date_time'] = f'{day}/{month}/{year} {hour}:{minute}'\n",
        "                out_dict['name_predicted'] = thing_classes['thing_classes'][classes[k]]\n",
        "                out_dict['probability'] = scores[k]\n",
        "                out_dict['body_length_mm'] = None\n",
        "                out_dict['biomass_mg'] = None\n",
        "                out_dict['region'] = f'x1={box[0]/W};x2={box[2]/W};y1={box[1]/H};y2={box[3]/H}'\n",
        "                tracking_results.append(out_dict)\n",
        "                out_dict = {}\n",
        "\n",
        "      if save_image:\n",
        "        # Visualize detections\n",
        "        v = Visualizer(im[:, :, ::-1], thing_classes)\n",
        "        out = v.draw_instance_predictions(outputs[\"instances\"].to(\"cpu\"))\n",
        "        # Save annotated image\n",
        "        cv2.imwrite(os.path.join(save_path, file.replace('.jpg', '_detections.jpg')), out.get_image()[:, :, ::-1])\n",
        "\n",
        "  if save_csv:\n",
        "    df = pd.DataFrame(tracking_results)\n",
        "    df.to_csv(os.path.join(save_path, 'results.csv'), index=False)\n",
        "\n",
        "def detect(path):\n",
        "  if os.path.isdir(path):\n",
        "    batch_detect(path)\n",
        "  else:\n",
        "    single_detect(path)"
      ]
    },
    {
      "cell_type": "markdown",
      "source": [
        "# Inference"
      ],
      "metadata": {
        "id": "Ii5nRuPyQN30"
      }
    },
    {
      "cell_type": "markdown",
      "source": [
        "## Single image"
      ],
      "metadata": {
        "id": "O43ZsSrIQPyd"
      }
    },
    {
      "cell_type": "code",
      "source": [
        "# Select image file\n",
        "image_path = '/content/drive/MyDrive/Fontys/Fontys_Sem7/insect_detection/Detectron2 - Faster-RCNN/test_images/20230715012944.jpg'\n",
        "detect(image_path)"
      ],
      "metadata": {
        "id": "w6l2K6McHUmr"
      },
      "execution_count": null,
      "outputs": []
    },
    {
      "cell_type": "markdown",
      "source": [
        "## Batch"
      ],
      "metadata": {
        "id": "BaaFGzjUlFSd"
      }
    },
    {
      "cell_type": "code",
      "source": [
        "# Select folder containing images\n",
        "folder_path = '/content/drive/MyDrive/Fontys/Fontys_Sem7/insect_detection/Detectron2 - Faster-RCNN/test_images'\n",
        "detect(folder_path)"
      ],
      "metadata": {
        "id": "yk2_0AoXlIQY"
      },
      "execution_count": null,
      "outputs": []
    }
  ],
  "metadata": {
    "accelerator": "GPU",
    "colab": {
      "gpuType": "T4",
      "provenance": [],
      "mount_file_id": "1QZoKi-58ZdS5S6GkkmfUZKo0L8OoiIkJ",
      "authorship_tag": "ABX9TyPX/yWMD+CWFwxvdrb9PuYr",
      "include_colab_link": true
    },
    "kernelspec": {
      "display_name": "Python 3",
      "name": "python3"
    },
    "language_info": {
      "name": "python"
    }
  },
  "nbformat": 4,
  "nbformat_minor": 0
}