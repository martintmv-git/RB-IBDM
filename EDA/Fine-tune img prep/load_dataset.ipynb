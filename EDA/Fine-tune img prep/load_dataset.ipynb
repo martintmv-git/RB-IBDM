{
 "cells": [
  {
   "cell_type": "markdown",
   "metadata": {},
   "source": [
    "# Dataset to HuggingFace Hub for InsectSAM training"
   ]
  },
  {
   "cell_type": "code",
   "execution_count": 4,
   "metadata": {},
   "outputs": [
    {
     "data": {
      "application/vnd.jupyter.widget-view+json": {
       "model_id": "688cde98af3941ac8c1efeb3f4267334",
       "version_major": 2,
       "version_minor": 0
      },
      "text/plain": [
       "Uploading the dataset shards:   0%|          | 0/1 [00:00<?, ?it/s]"
      ]
     },
     "metadata": {},
     "output_type": "display_data"
    },
    {
     "data": {
      "application/vnd.jupyter.widget-view+json": {
       "model_id": "9ee74b3a6e354bee9adc3bab6240572a",
       "version_major": 2,
       "version_minor": 0
      },
      "text/plain": [
       "Map:   0%|          | 0/733 [00:00<?, ? examples/s]"
      ]
     },
     "metadata": {},
     "output_type": "display_data"
    },
    {
     "data": {
      "application/vnd.jupyter.widget-view+json": {
       "model_id": "deb5d62d94c54baca1de24cd34976f9c",
       "version_major": 2,
       "version_minor": 0
      },
      "text/plain": [
       "Creating parquet from Arrow format:   0%|          | 0/8 [00:00<?, ?ba/s]"
      ]
     },
     "metadata": {},
     "output_type": "display_data"
    },
    {
     "data": {
      "text/plain": [
       "CommitInfo(commit_url='https://huggingface.co/datasets/martintmv/rb-ibdm/commit/26aaf858f06f042440210c8fb9d12b79c62cc9c1', commit_message='Upload dataset', commit_description='', oid='26aaf858f06f042440210c8fb9d12b79c62cc9c1', pr_url=None, pr_revision=None, pr_num=None)"
      ]
     },
     "execution_count": 4,
     "metadata": {},
     "output_type": "execute_result"
    }
   ],
   "source": [
    "from datasets import Dataset, DatasetDict, Features, Image, load_dataset\n",
    "import os\n",
    "from PIL import Image as PILImage\n",
    "import io\n",
    "\n",
    "data_dir = \"/Users/martintomov/Desktop/dataset\"\n",
    "\n",
    "image_files = sorted([os.path.join(data_dir, 'image', file) for file in os.listdir(os.path.join(data_dir, 'image')) if file.endswith('.png')])\n",
    "label_files = sorted([os.path.join(data_dir, 'label', file) for file in os.listdir(os.path.join(data_dir, 'label')) if file.endswith('.png')])\n",
    "\n",
    "assert len(image_files) == len(label_files), \"The number of images and labels should be the same\"\n",
    "\n",
    "def encode_image(image_path):\n",
    "    with open(image_path, 'rb') as image_file:\n",
    "        image = PILImage.open(image_file)\n",
    "        image = image.convert(\"RGB\")\n",
    "        byte_io = io.BytesIO()\n",
    "        image.save(byte_io, 'PNG')\n",
    "        return byte_io.getvalue()\n",
    "\n",
    "data = []\n",
    "for image_path, label_path in zip(image_files, label_files):\n",
    "    data.append({\n",
    "        'image': encode_image(image_path),\n",
    "        'label': encode_image(label_path)\n",
    "    })\n",
    "\n",
    "features = Features({'image': Image(), 'label': Image()})\n",
    "\n",
    "dataset = Dataset.from_dict({'image': [item['image'] for item in data], 'label': [item['label'] for item in data]}, features=features)\n",
    "\n",
    "dataset = DatasetDict({'train': dataset})\n",
    "\n",
    "dataset.push_to_hub(\"martintmv/rb-ibdm\")"
   ]
  }
 ],
 "metadata": {
  "kernelspec": {
   "display_name": ".env",
   "language": "python",
   "name": "python3"
  },
  "language_info": {
   "codemirror_mode": {
    "name": "ipython",
    "version": 3
   },
   "file_extension": ".py",
   "mimetype": "text/x-python",
   "name": "python",
   "nbconvert_exporter": "python",
   "pygments_lexer": "ipython3",
   "version": "3.8.16"
  }
 },
 "nbformat": 4,
 "nbformat_minor": 2
}
